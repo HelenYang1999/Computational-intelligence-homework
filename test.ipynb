{
 "cells": [
  {
   "cell_type": "code",
   "execution_count": 5,
   "metadata": {},
   "outputs": [
    {
     "name": "stdout",
     "output_type": "stream",
     "text": [
      "0 [1, 2, 3]\n",
      "1 [5, 6, 7]\n"
     ]
    },
    {
     "ename": "NameError",
     "evalue": "name 'shape' is not defined",
     "output_type": "error",
     "traceback": [
      "\u001b[1;31m---------------------------------------------------------------------------\u001b[0m",
      "\u001b[1;31mNameError\u001b[0m                                 Traceback (most recent call last)",
      "\u001b[1;32m<ipython-input-5-2489cae44211>\u001b[0m in \u001b[0;36m<module>\u001b[1;34m\u001b[0m\n\u001b[0;32m      2\u001b[0m \u001b[1;32mfor\u001b[0m \u001b[0mj\u001b[0m\u001b[1;33m,\u001b[0m\u001b[0ma\u001b[0m \u001b[1;32min\u001b[0m \u001b[0menumerate\u001b[0m\u001b[1;33m(\u001b[0m\u001b[0mx\u001b[0m\u001b[1;33m)\u001b[0m\u001b[1;33m:\u001b[0m\u001b[1;33m\u001b[0m\u001b[1;33m\u001b[0m\u001b[0m\n\u001b[0;32m      3\u001b[0m     \u001b[0mprint\u001b[0m\u001b[1;33m(\u001b[0m\u001b[0mj\u001b[0m\u001b[1;33m,\u001b[0m\u001b[0ma\u001b[0m\u001b[1;33m)\u001b[0m\u001b[1;33m\u001b[0m\u001b[1;33m\u001b[0m\u001b[0m\n\u001b[1;32m----> 4\u001b[1;33m \u001b[0mprint\u001b[0m\u001b[1;33m(\u001b[0m\u001b[0mshape\u001b[0m\u001b[1;33m(\u001b[0m\u001b[0mx\u001b[0m\u001b[1;33m)\u001b[0m\u001b[1;33m)\u001b[0m\u001b[1;33m\u001b[0m\u001b[1;33m\u001b[0m\u001b[0m\n\u001b[0m",
      "\u001b[1;31mNameError\u001b[0m: name 'shape' is not defined"
     ]
    }
   ],
   "source": [
    "x = [[1,2,3],[5,6,7]]\n",
    "for j,a in enumerate(x):\n",
    "    print(j,a)\n",
    "print(shape(x))"
   ]
  },
  {
   "cell_type": "code",
   "execution_count": 35,
   "metadata": {},
   "outputs": [
    {
     "name": "stdout",
     "output_type": "stream",
     "text": [
      "[0 1 2 3 4 5 6 7 8 9]\n",
      "[5 9 6 8 4 3 0 1 2 7]\n"
     ]
    }
   ],
   "source": [
    "import numpy as np\n",
    "s=np.arange(10)\n",
    "print(s)\n",
    "np.random.shuffle(s) \n",
    "print(s)"
   ]
  },
  {
   "cell_type": "code",
   "execution_count": 36,
   "metadata": {},
   "outputs": [
    {
     "name": "stdout",
     "output_type": "stream",
     "text": [
      "0.36460093742650646\n"
     ]
    }
   ],
   "source": [
    "import random\n",
    "print(random.uniform(0,1))"
   ]
  },
  {
   "cell_type": "code",
   "execution_count": 56,
   "metadata": {},
   "outputs": [
    {
     "name": "stdout",
     "output_type": "stream",
     "text": [
      "[[11.  4.  8. 14. 16.]\n",
      " [ 4. 11. 14. 13.  6.]\n",
      " [ 8. 14.  8.  6.  5.]\n",
      " [14. 13.  6.  8. 16.]\n",
      " [16.  6.  5. 16. 10.]]\n"
     ]
    }
   ],
   "source": [
    "n=5\n",
    "# D = np.zeros((n,n))\n",
    "for i in range(n):\n",
    "    D[i] = np.random.randint(20,size=n)\n",
    "for i in range(n):\n",
    "    for j in range(i+1):\n",
    "        D[i][j] = D[j][i]\n",
    "print(D)"
   ]
  },
  {
   "cell_type": "code",
   "execution_count": 101,
   "metadata": {},
   "outputs": [
    {
     "data": {
      "text/plain": [
       "0"
      ]
     },
     "execution_count": 101,
     "metadata": {},
     "output_type": "execute_result"
    }
   ],
   "source": [
    "import numpy as np\n",
    "import random\n",
    "np.random.randint(0,5)\n",
    "random.randint(0,5)"
   ]
  },
  {
   "cell_type": "code",
   "execution_count": 102,
   "metadata": {},
   "outputs": [
    {
     "data": {
      "text/plain": [
       "[4, 5]"
      ]
     },
     "execution_count": 102,
     "metadata": {},
     "output_type": "execute_result"
    }
   ],
   "source": [
    "list(range(4,6))"
   ]
  },
  {
   "cell_type": "code",
   "execution_count": 107,
   "metadata": {},
   "outputs": [
    {
     "name": "stdout",
     "output_type": "stream",
     "text": [
      "2 1\n"
     ]
    }
   ],
   "source": [
    "a=1\n",
    "b=2\n",
    "a,b = b,a\n",
    "print(a,b)"
   ]
  },
  {
   "cell_type": "code",
   "execution_count": 122,
   "metadata": {},
   "outputs": [
    {
     "name": "stdout",
     "output_type": "stream",
     "text": [
      "[5 9 6 8 0 2 3 4 1 7]\n",
      "[5 6 9 8 0 2 3 4 1 7]\n"
     ]
    }
   ],
   "source": [
    "\n",
    "print(s)\n",
    "u=1\n",
    "v=2\n",
    "for i in range(int((v-u+1)/2)):\n",
    "        s[u+i],s[v-i] = s[v-i], s[u+i]\n",
    "print(s)"
   ]
  },
  {
   "cell_type": "code",
   "execution_count": 124,
   "metadata": {},
   "outputs": [
    {
     "name": "stdout",
     "output_type": "stream",
     "text": [
      "[11.09416808  7.93313565  9.02927293  6.49205165  7.52726589] [ 8.58310236 19.23412012  5.99477272  2.00511031 13.78309592]\n"
     ]
    }
   ],
   "source": [
    "X = 20*np.random.rand(n)\n",
    "Y = 20*np.random.rand(n)\n",
    "print(X,Y)"
   ]
  },
  {
   "cell_type": "code",
   "execution_count": 2,
   "metadata": {},
   "outputs": [
    {
     "data": {
      "image/png": "[encoded data removed]",
      "text/plain": [
       "<Figure size 432x288 with 1 Axes>"
      ]
     },
     "metadata": {},
     "output_type": "display_data"
    }
   ],
   "source": [
    "import networkx as nx\n",
    "import matplotlib.pyplot as plt\n",
    "\n",
    "G = nx.Graph()\n",
    "G.add_edges_from([(1, 2), (1, 3)])\n",
    "G.add_node(1)\n",
    "G.add_edge(1, 2)\n",
    "G.add_node(\"spam\")        # adds node \"spam\"\n",
    "G.add_nodes_from(\"spam\")  # adds 4 nodes: 's', 'p', 'a', 'm'\n",
    "G.add_edge(3, 'm')\n",
    "list(G.nodes)\n",
    "list(G.edges)\n",
    "G = nx.petersen_graph()\n",
    "#subplot(323)等价于subplot(3,2,3)\n",
    "plt.subplot(121)\n",
    "nx.draw(G, with_labels=True, font_weight='bold')\n",
    "# plt.subplot(122)\n",
    "# nx.draw_shell(G, nlist=[range(5, 10), range(5)], with_labels=True, font_weight='bold')"
   ]
  },
  {
   "cell_type": "code",
   "execution_count": 37,
   "metadata": {},
   "outputs": [
    {
     "ename": "NameError",
     "evalue": "name 'clear' is not defined",
     "output_type": "error",
     "traceback": [
      "\u001b[1;31m---------------------------------------------------------------------------\u001b[0m",
      "\u001b[1;31mNameError\u001b[0m                                 Traceback (most recent call last)",
      "\u001b[1;32m<ipython-input-37-c47a0442276f>\u001b[0m in \u001b[0;36m<module>\u001b[1;34m()\u001b[0m\n\u001b[0;32m     54\u001b[0m \u001b[1;31m#绘制散点\u001b[0m\u001b[1;33m\u001b[0m\u001b[1;33m\u001b[0m\u001b[0m\n\u001b[0;32m     55\u001b[0m \u001b[1;31m# plt.show()\u001b[0m\u001b[1;33m\u001b[0m\u001b[1;33m\u001b[0m\u001b[0m\n\u001b[1;32m---> 56\u001b[1;33m \u001b[0mclear\u001b[0m\u001b[1;33m(\u001b[0m\u001b[1;33m)\u001b[0m\u001b[1;33m\u001b[0m\u001b[0m\n\u001b[0m\u001b[0;32m     57\u001b[0m \u001b[0mplt\u001b[0m\u001b[1;33m.\u001b[0m\u001b[0mplot\u001b[0m\u001b[1;33m(\u001b[0m\u001b[0mX\u001b[0m\u001b[1;33m,\u001b[0m \u001b[0mY\u001b[0m\u001b[1;33m)\u001b[0m\u001b[1;33m\u001b[0m\u001b[0m\n",
      "\u001b[1;31mNameError\u001b[0m: name 'clear' is not defined"
     ]
    },
    {
     "data": {
      "image/png": "[encoded data removed]",
      "text/plain": [
       "<Figure size 432x288 with 1 Axes>"
      ]
     },
     "metadata": {
      "needs_background": "light"
     },
     "output_type": "display_data"
    }
   ],
   "source": [
    "import networkx as nx\n",
    "import matplotlib.pyplot as plt\n",
    "import numpy as np\n",
    "import math\n",
    "\n",
    "def initialize_coordinate(n):\n",
    "    X = 20*np.random.rand(n)\n",
    "    Y = 20*np.random.rand(n)\n",
    "    return X,Y\n",
    "\n",
    "def distance_between_point(x1,x2,y1,y2):\n",
    "    return math.pow(math.pow(x2-x1,2)+math.pow(y2-y1,2),1/2)\n",
    "\n",
    "#初始化城市距离数组\n",
    "#注意！这是一个对角线对称矩阵\n",
    "def initialize_D(n):\n",
    "    X,Y = initialize_coordinate(n)\n",
    "    D = np.zeros((n,n))\n",
    "    for i in range(n):\n",
    "        for j in range(i+1):\n",
    "            D[i][j] = D[j][i] = distance_between_point(X[i],X[j],Y[i],Y[j])\n",
    "    return D,X,Y\n",
    "\n",
    "n=5\n",
    "D,X,Y=initialize_D(n)\n",
    "#第一种，使用无向图的方法绘制\n",
    "# G = nx.Graph()\n",
    "# G.add_nodes_from(list(range(n))) \n",
    "# print(list(G.nodes))\n",
    "# s = [1,3,4,2,0]\n",
    "# for i in range(n-1):\n",
    "#     G.add_edge(s[i],s[i+1],weight=D[i][i+1])\n",
    "# G.add_edge(s[n-1],s[0],weight=D[n-1][0])\n",
    "# print(list(G.edges))\n",
    "# nx.draw(G, with_labels=True, font_weight='bold')\n",
    "#不是想要的那种结果，应该是每个点在图中有固定的坐标\n",
    "\n",
    "#第二种，先画点，后画线\n",
    "plt.xlabel('X')\n",
    "plt.ylabel('Y')\n",
    "plt.scatter(X, Y)\n",
    "for i in range(len(X)):\n",
    "    #做标记\n",
    "    plt.annotate(i,(X[i],Y[i]))\n",
    "s = [1,3,4,2,0]\n",
    "X_s = []\n",
    "Y_s = []\n",
    "for i,j in enumerate(s):\n",
    "    X_s.append(X[j])\n",
    "    Y_s.append(Y[j])\n",
    "X_s.append(X[s[0]])\n",
    "Y_s.append(Y[s[0]])\n",
    "plt.plot(X_s, Y_s)\n",
    "#绘制散点\n",
    "# plt.show()\n",
    "plt.plot(X, Y)"
   ]
  },
  {
   "cell_type": "code",
   "execution_count": 41,
   "metadata": {},
   "outputs": [
    {
     "name": "stdout",
     "output_type": "stream",
     "text": [
      "[1, 2]\n"
     ]
    }
   ],
   "source": [
    "x = 1\n",
    "L = []\n",
    "L.append(x)\n",
    "L.append(2)\n",
    "print(L)"
   ]
  },
  {
   "cell_type": "code",
   "execution_count": 44,
   "metadata": {},
   "outputs": [
    {
     "name": "stdout",
     "output_type": "stream",
     "text": [
      "['北京' '上海' '天津' '香港' '广州' '深圳' '杭州' '重庆' '青岛' '厦门' '兰州' '贵阳' '长沙' '南京'\n",
      " '南昌' '沈阳' '太原' '成都' '拉萨' '乌鲁木齐' '昆明' '西安' '西宁' '银川' '呼兰浩特' '哈尔滨' '长春'\n",
      " '三亚' '澳门' '石家庄']\n",
      "[116.4 121.4 117.2 114.1 113.2 114.  120.2 106.4 120.3 118.1 103.7 106.7\n",
      " 113.  118.7 115.9 123.3 112.5 104.   91.   87.6 102.7 108.9 101.7 106.3\n",
      " 122.  126.6 125.3 109.5 113.5 114.4]\n",
      "[39.9 34.5 39.1 22.2 23.1 22.6 30.2 29.5 36.  24.4 36.  26.5 28.2 32.\n",
      " 28.6 41.8 37.8 30.6 29.6 43.7 25.1 34.2 36.5 38.4 46.  45.7 43.8 18.2\n",
      " 22.2 38. ]\n"
     ]
    }
   ],
   "source": [
    "#读取csv文件\n",
    "import numpy as np\n",
    "import pandas as pd\n",
    "import os\n",
    "\n",
    "df = pd.read_csv('city_location.csv')\n",
    "df.columns=[\"city\",'x','y']\n",
    "city = df[\"city\"]\n",
    "x = df[\"x\"]\n",
    "y = df[\"y\"]\n",
    "cities = np.array(city)\n",
    "X = np.array(x)\n",
    "Y = np.array(y)\n",
    "print(cities)\n",
    "print(X)\n",
    "print(Y)"
   ]
  },
  {
   "cell_type": "code",
   "execution_count": 2,
   "metadata": {},
   "outputs": [
    {
     "name": "stdout",
     "output_type": "stream",
     "text": [
      "[0, 1, 1]\n",
      "[0, 1]\n"
     ]
    }
   ],
   "source": [
    "s = [0,1]\n",
    "s_new = s.copy()\n",
    "s_new.append(1)\n",
    "print(s_new)\n",
    "print(s)"
   ]
  },
  {
   "cell_type": "code",
   "execution_count": 5,
   "metadata": {},
   "outputs": [
    {
     "name": "stdout",
     "output_type": "stream",
     "text": [
      "[5, 2, 3, 4]\n",
      "[10, 6, 7, 8]\n"
     ]
    }
   ],
   "source": [
    "s=[1,2,3,4]\n",
    "t = [5,6,7,8]\n",
    "s[0] = t[0]\n",
    "t[0] = 10\n",
    "print(s)\n",
    "print(t)"
   ]
  },
  {
   "cell_type": "code",
   "execution_count": 3,
   "metadata": {},
   "outputs": [
    {
     "name": "stdout",
     "output_type": "stream",
     "text": [
      "{1: 2}\n"
     ]
    }
   ],
   "source": [
    "dic = {}\n",
    "dic[1]=2\n",
    "print(dic)"
   ]
  }
 ],
 "metadata": {
  "kernelspec": {
   "display_name": "Python 3",
   "language": "python",
   "name": "python3"
  },
  "language_info": {
   "codemirror_mode": {
    "name": "ipython",
    "version": 3
   },
   "file_extension": ".py",
   "mimetype": "text/x-python",
   "name": "python",
   "nbconvert_exporter": "python",
   "pygments_lexer": "ipython3",
   "version": "3.7.9"
  }
 },
 "nbformat": 4,
 "nbformat_minor": 4
}

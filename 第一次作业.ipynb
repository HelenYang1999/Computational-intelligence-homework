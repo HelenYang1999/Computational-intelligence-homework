{
 "cells": [
  {
   "cell_type": "code",
   "execution_count": 2,
   "metadata": {},
   "outputs": [
    {
     "name": "stdout",
     "output_type": "stream",
     "text": [
      "[(10, 0, 0), (7, 0, 3), (7, 3, 0), (4, 3, 3), (4, 6, 0), (1, 6, 3), (1, 7, 2), (8, 0, 2), (8, 2, 0), (5, 2, 3), (5, 5, 0)]\n"
     ]
    }
   ],
   "source": [
    "#深度优先搜索\n",
    "def isvisited(visited,s,t):\n",
    "    if visited.count((s,t))==0:\n",
    "        return False\n",
    "    return True\n",
    "\n",
    "def move(stack,visited,s,t):\n",
    "    if isvisited(visited,s,t)==False:\n",
    "        visited.append((s,t))\n",
    "        stack.append((s,t))\n",
    "\n",
    "def dfs(stack,visited,path):\n",
    "    if len(stack) <= 0:\n",
    "        print(\"no result\")\n",
    "        return 0\n",
    "    top = stack.pop()\n",
    "    s = top[0]\n",
    "    t = top[1]\n",
    "    path.append((10-s-t,s,t))\n",
    "    if top==(5,0):\n",
    "        return 1\n",
    "    if s < 7:\n",
    "        move(stack,visited,7,t)\n",
    "    if t < 3:\n",
    "        move(stack,visited,s,3)\n",
    "    if s > 0:\n",
    "        move(stack,visited,0,t)\n",
    "    if t > 0:\n",
    "        move(stack,visited,s,0)\n",
    "    if t > 0 and s+t<=7:\n",
    "        move(stack,visited,s+t,0)\n",
    "    if s > 0 and s+t <=3:\n",
    "        move(stack,visited,0,s+t)\n",
    "    if s+t>=7 and t>0:\n",
    "        move(stack,visited,7,s+t-7)\n",
    "    if s+t>=3 and s>0:\n",
    "        move(stack,visited,s+t-3,3)\n",
    "    dfs(stack,visited,path)\n",
    "        \n",
    "stack = [(0,0)]\n",
    "visited = [(0,0)]\n",
    "path = []\n",
    "dfs(stack,visited,path)\n",
    "print(path)"
   ]
  }
 ],
 "metadata": {
  "kernelspec": {
   "display_name": "Python 3",
   "language": "python",
   "name": "python3"
  },
  "language_info": {
   "codemirror_mode": {
    "name": "ipython",
    "version": 3
   },
   "file_extension": ".py",
   "mimetype": "text/x-python",
   "name": "python",
   "nbconvert_exporter": "python",
   "pygments_lexer": "ipython3",
   "version": "3.7.9"
  }
 },
 "nbformat": 4,
 "nbformat_minor": 4
}

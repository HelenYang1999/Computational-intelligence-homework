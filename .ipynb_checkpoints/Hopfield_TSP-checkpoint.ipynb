{
 "cells": [
  {
   "cell_type": "code",
   "execution_count": null,
   "metadata": {},
   "outputs": [],
   "source": [
    "'''\n",
    "1、初始化Hopfield神经网络的初值（输入电压、迭代次数）和权值\n",
    "2、计算n个城市之间的距离矩阵Dxy\n",
    "3、初始化神经网络的输入状态\n",
    "'''"
   ]
  },
  {
   "cell_type": "code",
   "execution_count": null,
   "metadata": {},
   "outputs": [],
   "source": [
    "import numpy as np\n",
    "from matplotlib import pyplot as plt\n",
    "\n",
    "#随机生成城市\n",
    "def generate_random_cities(city_num):\n",
    "    cities = []\n",
    "    for i in range(city_num):\n",
    "        city = []\n",
    "        for j in range(2):\n",
    "            city.append(random.randint(0, 350))\n",
    "        cities.append(city)\n",
    "    return cities\n",
    "\n",
    "def price_cn(vec1, vec2):\n",
    "    return np.linalg.norm(np.array(vec1) - np.array(vec2))\n",
    "\n",
    "#计算城市之间的距离\n",
    "def compute_distance(cities,city_num):\n",
    "    distances = np.zeros((city_num, city_num))\n",
    "    for i, curr_point in enumerate(cities):\n",
    "        line = []\n",
    "        for j ,other_point in enumerate(cities):\n",
    "            if i!=j:\n",
    "                line.append(price_cn(curr_point, other_point))\n",
    "            else:\n",
    "                line.append(0.0)\n",
    "        distance[i] = line\n",
    "    return distances\n",
    "\n",
    "\n",
    "def main():\n",
    "    city_num = 8\n",
    "    cities = generate_random_cities(city_num)\n",
    "    distances = compute_distance(cities,city_num)\n",
    "    N = city_num\n",
    "    #初始化网络初值\n",
    "    A = N*N\n",
    "    D = N/2\n",
    "    U0 = 0.0009 # 初始电压\n",
    "    step = 0.0001  # 步长\n",
    "    num_iter = 10000  # 迭代次数\n",
    "    # 初始化神经网络的输入状态（电路的输入电压U）\n",
    "    U = 1 / 2 * U0 * np.log(N - 1) + (2 * (np.random.random((N, N))) - 1)\n",
    "    # 初始化神经网络的输出状态（电路的输出电压V）\n",
    "    V = calc_V(U, U0)\n",
    "    "
   ]
  }
 ],
 "metadata": {
  "kernelspec": {
   "display_name": "Python [conda env:root]",
   "language": "python",
   "name": "conda-root-py"
  },
  "language_info": {
   "codemirror_mode": {
    "name": "ipython",
    "version": 3
   },
   "file_extension": ".py",
   "mimetype": "text/x-python",
   "name": "python",
   "nbconvert_exporter": "python",
   "pygments_lexer": "ipython3",
   "version": "3.7.6"
  }
 },
 "nbformat": 4,
 "nbformat_minor": 4
}
